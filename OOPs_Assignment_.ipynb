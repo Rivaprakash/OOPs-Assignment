{
  "nbformat": 4,
  "nbformat_minor": 0,
  "metadata": {
    "colab": {
      "provenance": []
    },
    "kernelspec": {
      "name": "python3",
      "display_name": "Python 3"
    },
    "language_info": {
      "name": "python"
    }
  },
  "cells": [
    {
      "cell_type": "markdown",
      "source": [
        "1. What is Object-Oriented Programming (OOP).\n",
        "\n",
        "Ans -Object-oriented programming (OOP) in Python is a programming style that uses classes and objects to build software.\n",
        "\n",
        "Classes: Templates for creating objects. Classes define the properties and behavior of the objects they create.\n",
        "\n",
        "Objects: Instances of a class. Objects can contain data in the form of attributes and code in the form of methods."
      ],
      "metadata": {
        "id": "3Kjz6yPAEnhR"
      }
    },
    {
      "cell_type": "markdown",
      "source": [
        "2.  What is a class in OOP?\n",
        "\n",
        "Ans- Class is a blueprint for creating object.Templates for creating objects. Classes define the properties and behavior of the objects they create."
      ],
      "metadata": {
        "id": "LexhKYC_FfLH"
      }
    },
    {
      "cell_type": "markdown",
      "source": [
        "3. What is an object in OOP?\n",
        "\n",
        "Ans -Object is a variable and also called 'instance'.Instances of a class. Objects can contain data in the form of attributes and code in the form of methods."
      ],
      "metadata": {
        "id": "gLlUyRQDFnkC"
      }
    },
    {
      "cell_type": "markdown",
      "source": [
        "4. What is the difference between abstraction and encapsulation?\n",
        "\n",
        "Ans - Abstraction: Hiding the implementation details of a class and only showing the essential features to the user.\n",
        "\n",
        "Encapsulation: Wrapping data and functions into a single unit (object)."
      ],
      "metadata": {
        "id": "_SVdbq1bF78u"
      }
    },
    {
      "cell_type": "markdown",
      "source": [
        "5.  What are dunder methods in Python?\n",
        "\n",
        "Ans - Dunder methods, also known as magic methods or special methods, are predefined methods in Python that allow you to customize the behavior of your objects."
      ],
      "metadata": {
        "id": "CYQHFckwGbf3"
      }
    },
    {
      "cell_type": "markdown",
      "source": [
        "6.  Explain the concept of inheritance in OOP.\n",
        "\n",
        "Ans -Inheritance in Object-Oriented Programming (OOP) is a way for one class (called the child class or subclass) to inherit properties and behaviors (methods) from another class (called the parent class or superclass). This allows the child class to reuse code from the parent class and add or modify its own features."
      ],
      "metadata": {
        "id": "9aLfPZupHT48"
      }
    },
    {
      "cell_type": "markdown",
      "source": [
        "7. What is polymorphism in OOP?\n",
        "\n",
        "Ans - Polymorphism in OOP means that different classes can use the same method name, but each class can have its own version of that method.\n",
        "\n",
        "In simple words, one name, many behaviors. We can call the same method on objects from different classes, and each object will respond in its own way."
      ],
      "metadata": {
        "id": "gZD0E0YyHWxX"
      }
    },
    {
      "cell_type": "markdown",
      "source": [
        "8.  How is encapsulation achieved in Python?\n",
        "\n",
        "Ans -Encapsulation in Python is achieved by hiding the internal details of an object and restricting access to some of its components. This ensures that the object's data is protected and can only be accessed or modified through specific methods."
      ],
      "metadata": {
        "id": "_hMe4z02HZ4g"
      }
    },
    {
      "cell_type": "markdown",
      "source": [
        "9. What is a constructor in Python?\n",
        "\n",
        "Ans - Constructors in Python is a special class method for creating and initializing an object instance at that class. Every Python class has a constructor; it's not required to be defined explicitly. The purpose of the constructor is to construct an object and assign a value to the object's members."
      ],
      "metadata": {
        "id": "LWJfREUmGxsT"
      }
    },
    {
      "cell_type": "markdown",
      "source": [
        "10. What are class and static methods in Python.\n",
        "\n",
        "Ans-Class method: A method that is bound to the class, not the instance of the class. It takes the class itself as the first argument (conventionally named cls). We use the @classmethod decorator to define it. It can be called on the class or an instance.\n",
        "\n",
        "    class MyClass:\n",
        "        @classmethod\n",
        "        def greet(cls):\n",
        "            print(\"Hello from class method!\")\n",
        "\n",
        "    MyClass.greet()  # Call using class\n",
        "\n",
        "Static method: A method that doesn't take self or cls as the first argument. It behaves like a regular function but belongs to the class. We use the @staticmethod decorator. It doesn't access or modify class or instance data.\n",
        "\n",
        "    class MyClass:\n",
        "        @staticmethod\n",
        "        def greet():\n",
        "            print(\"Hello from static method!\")\n",
        "\n",
        "    MyClass.greet()  # Call using class"
      ],
      "metadata": {
        "id": "zYe5iye8M0Xn"
      }
    },
    {
      "cell_type": "markdown",
      "source": [
        "11.  What is method overloading in Python?\n",
        "\n",
        "Ans -Method overloading in Python means defining a method with the same name, but with different numbers or types of arguments. However, Python doesn't directly support it like other languages. Instead, we can achieve similar behavior by using default arguments or variable-length arguments.\n"
      ],
      "metadata": {
        "id": "y2X4MIsTM7nb"
      }
    },
    {
      "cell_type": "markdown",
      "source": [
        "12.  What is method overriding in OOP.\n",
        "\n",
        "Ans -Method overriding in OOP happens when a subclass provides its own version of a method that is already defined in its parent class. The method in the subclass overrides the method in the parent class\n"
      ],
      "metadata": {
        "id": "wccAJL4hM-oi"
      }
    },
    {
      "cell_type": "markdown",
      "source": [
        "13.  What is a property decorator in Python?\n",
        "\n",
        "Ans-The property decorator in Python allow us to define a method that behaves like an attribute. It let us define getter, setter, and deleter methods for an attribute without directly calling methods.\n",
        "\n",
        "In simple words, it let us access a method as if it's a normal attribute, while still controlling how the value is retrieved or changed.\n"
      ],
      "metadata": {
        "id": "6gX-VYJPNB-U"
      }
    },
    {
      "cell_type": "markdown",
      "source": [
        "14.  Why is polymorphism important in OOP?\n",
        "\n",
        "Ans -Polymorphism is important in OOP because it allow us to write more flexible and reusable code. It let us use the same method name for different objects, even if each object behaves differently.\n",
        "\n",
        "In simple words, polymorphism help us treat different types of objects in the same way, making our code easier to maintain and extend.\n"
      ],
      "metadata": {
        "id": "RcS88D9cNGi7"
      }
    },
    {
      "cell_type": "markdown",
      "source": [
        "15.  What is an abstract class in Python?\n",
        "\n",
        "Ans - An abstract class in Python is a class that cannot be instantiated (we can't create objects of it directly). It is meant to be a blueprint for other classes. It can have abstract methods—methods that are declared but don't have any implementation. These methods must be implemented by the subclasses.\n",
        "\n",
        "In simple words, an abstract class defines a structure, but leaves the details for the subclasses to fill in.\n"
      ],
      "metadata": {
        "id": "fsJwdZOPNJvM"
      }
    },
    {
      "cell_type": "markdown",
      "source": [
        "16.  What are the advantages of OOP.\n",
        "\n",
        "Ans -Advantages of OOP:\n",
        "\n",
        "Modularity: Code is organized into classes, making it easier to manage.\n",
        "\n",
        "Reusability: Classes can be reused in different projects.\n",
        "\n",
        "Scalability: Easily add new features without affecting the whole system.\n",
        "\n",
        "Maintainability: Easier to update and fix bugs.\n",
        "\n",
        "Flexibility: Objects can behave differently using polymorphism and inheritance.\n",
        "\n",
        "OOP makes code more organized, reusable, and easier to manage.\n"
      ],
      "metadata": {
        "id": "hhz_GapENMmZ"
      }
    },
    {
      "cell_type": "markdown",
      "source": [
        "17.  What is multiple inheritance in Python?\n",
        "\n",
        "Ans -Multiple inheritance in Python means a class can inherit from more than one parent class. This allows the child class to access attributes and methods from all its parent classes.\n",
        "\n",
        "In simple words, a child class can inherit features from multiple classes at once.\n"
      ],
      "metadata": {
        "id": "WhI7Dhz2NPmA"
      }
    },
    {
      "cell_type": "markdown",
      "source": [
        "18.  What is the difference between a class variable and an instance variable.\n",
        "\n",
        "Ans - The difference between a class variable and an instance variable are:\n",
        "* Class Variable:\n",
        "\n",
        "A variable that is shared by all instances of the class.\n",
        "It belongs to the class itself, not to any specific object.\n",
        "\n",
        "* Instance Variable:\n",
        "\n",
        "A variable that is specific to each instance (object) of the class.\n",
        "Each object can have its own value for this variable."
      ],
      "metadata": {
        "id": "yHya_MGzNSXj"
      }
    },
    {
      "cell_type": "markdown",
      "source": [
        "19.  Explain the purpose of \"__str__' and '__repr__' ' methods in Python.\n",
        "\n",
        "Ans - __str__: Defines how an object is displayed to the user, typically when printing the object. It's meant to be simple and readable.\n",
        "\n",
        "__repr__: Defines how an object is represented in the Python shell or when using repr(). It's meant to be detailed and should ideally show how to recreate the object."
      ],
      "metadata": {
        "id": "CB0bRchuNURW"
      }
    },
    {
      "cell_type": "markdown",
      "source": [
        "20. What is the significance of the 'super()' function in Python?\n",
        "\n",
        "Ans -The super() function in Python is used to call methods or access attributes from the parent class (or superclass) from within a child class. It allow us to inherit and extend functionality of the parent class without directly referring to it by name."
      ],
      "metadata": {
        "id": "SR9dwr4PNWHj"
      }
    },
    {
      "cell_type": "markdown",
      "source": [
        "21. What is the significance of the __del__ method in Python?\n",
        "\n",
        "Ans -The __del__ method in Python is a destructor method that is called when an object is about to be destroyed or garbage collected. It allow us to clean up or release any resources (like files or network connections) that the object was using before it is removed from memory."
      ],
      "metadata": {
        "id": "Qz0HLlTKNYBW"
      }
    },
    {
      "cell_type": "markdown",
      "source": [
        "22.  What is the difference between @staticmethod and @classmethod in Python?\n",
        "\n",
        "Ans -The difference between @staticmethod and @classmethod in Python is:\n",
        "\n",
        "* @staticmethod: A method that doesn't need access to the class or instance. It behaves like a regular function, but it is part of the class. It doesn't take self or cls as the first parameter.\n",
        "\n",
        "* @classmethod: A method that is bound to the class, not an instance. It takes the class itself (cls) as the first parameter, allowing it to access or modify class-level variables\n"
      ],
      "metadata": {
        "id": "RsesZ1ndNZhZ"
      }
    },
    {
      "cell_type": "markdown",
      "source": [
        "23.  How does polymorphism work in Python with inheritance?\n",
        "\n",
        "Ans -Polymorphism in Python with inheritance means that different classes can have methods with the same name, but each class can implement its own version of the method. When a method is called on an object, Python will use the version of the method that matches the object's class.\n"
      ],
      "metadata": {
        "id": "gC5YxhxVNbBu"
      }
    },
    {
      "cell_type": "markdown",
      "source": [
        "24.  What is method chaining in Python OOP?\n",
        "\n",
        "Ans -Method chaining in Python OOP refers to calling multiple methods on the same object, one after the other, in a single line. Each method returns the object itself (usually self), allowing us to call another method on the same object without needing to reference the object again."
      ],
      "metadata": {
        "id": "nrUlBpN5Nckh"
      }
    },
    {
      "cell_type": "markdown",
      "source": [
        "25.  What is the purpose of the __call__ method in Python?\n",
        "\n",
        "Ans -The __call__ method in Python allows an object to be called like a function. When we define this method in a class, we can use an instance of that class as if it were a function.\n",
        "\n",
        "In simple words, __call__ makes objects callable—meaning we can use the object with parentheses () and pass arguments to it, just like calling a function."
      ],
      "metadata": {
        "id": "fxYdB4KaNeJS"
      }
    },
    {
      "cell_type": "code",
      "source": [
        "#1.Create a parent class Animal with a method speak() that prints a generic message. Create a child class Dog that overrides the speak() method to print \"Bark!\"\n",
        "\n",
        "class Animal:\n",
        "    def speak(self):\n",
        "        print(\"This is a generic animal sound.\")\n",
        "\n",
        "class Dog(Animal):\n",
        "    def speak(self):\n",
        "        print(\"Bark!\")\n",
        "\n",
        "A1 = Animal()\n",
        "A1.speak()\n",
        "\n",
        "D1 = Dog()\n",
        "D1.speak()\n"
      ],
      "metadata": {
        "colab": {
          "base_uri": "https://localhost:8080/"
        },
        "id": "vz3qSfZuHd1_",
        "outputId": "5a7db0c1-8a8d-4c74-d1e9-5a38a6e224ff"
      },
      "execution_count": null,
      "outputs": [
        {
          "output_type": "stream",
          "name": "stdout",
          "text": [
            "This is a generic animal sound.\n",
            "Bark!\n"
          ]
        }
      ]
    },
    {
      "cell_type": "code",
      "source": [
        "#2.Write a program to create an abstract class Shape with a method area(). Derive classes Circle and Rectangle from it and implement the area() method in both.\n",
        "\n",
        "from abc import ABC, abstractmethod\n",
        "import math\n",
        "\n",
        "# Abstract class Shape\n",
        "class Shape(ABC):\n",
        "    @abstractmethod\n",
        "    def area(self):\n",
        "        pass\n",
        "\n",
        "# Derived class Circle\n",
        "class Circle(Shape):\n",
        "    def __init__(self, radius):\n",
        "        self.radius = radius\n",
        "\n",
        "    def area(self):\n",
        "        return math.pi * (self.radius ** 2)\n",
        "\n",
        "# Derived class Rectangle\n",
        "class Rectangle(Shape):\n",
        "    def __init__(self, length, width):\n",
        "        self.length = length\n",
        "        self.width = width\n",
        "\n",
        "    def area(self):\n",
        "        return self.length * self.width\n",
        "\n",
        "circle = Circle(5)\n",
        "rectangle = Rectangle(4, 6)\n",
        "\n",
        "print(\"Area of Circle:\", circle.area())\n",
        "print(\"Area of Rectangle:\", rectangle.area())\n"
      ],
      "metadata": {
        "id": "_xj9D4C2LiLO",
        "colab": {
          "base_uri": "https://localhost:8080/"
        },
        "outputId": "5cd9d292-b8c6-4b19-f83c-9dec4bbe8b9e"
      },
      "execution_count": null,
      "outputs": [
        {
          "output_type": "stream",
          "name": "stdout",
          "text": [
            "Area of Circle: 78.53981633974483\n",
            "Area of Rectangle: 24\n"
          ]
        }
      ]
    },
    {
      "cell_type": "code",
      "source": [
        "#3.Implement a multi-level inheritance scenario where a class Vehicle has an attribute type. Derive a class Car and further derive a class ElectricCar\n",
        "#that adds a battery attribute.\n",
        "\n",
        "# Base class Vehicle\n",
        "class Vehicle:\n",
        "    def __init__(self, type):\n",
        "        self.type = type\n",
        "\n",
        "    def display_info(self):\n",
        "        print(f\"Vehicle Type: {self.type}\")\n",
        "\n",
        "# Derived class Car\n",
        "class Car(Vehicle):\n",
        "    def __init__(self, type, brand):\n",
        "        super().__init__(type) # Initialize the Vehicle class with type\n",
        "        self.brand = brand\n",
        "\n",
        "    def display_info(self):\n",
        "        super().display_info() # Display vehicle type and car brand\n",
        "        print(f\"Car Brand: {self.brand}\")\n",
        "\n",
        "# Further derived class ElectricCar\n",
        "class ElectricCar(Car):\n",
        "    def __init__(self, type, brand, battery_capacity):\n",
        "        super().__init__(type, brand) # Initialize the Car class with type and brand\n",
        "        self.battery_capacity = battery_capacity\n",
        "\n",
        "    def display_info(self):\n",
        "        super().display_info() # Display info from both Car and ElectricCar\n",
        "        print(f\"Battery Capacity: {self.battery_capacity} kWh\")\n",
        "\n",
        "vehicle = Vehicle(\"Motorcycle\")\n",
        "car = Car(\"Car\", \"Toyota\")\n",
        "electric_car = ElectricCar(\"Car\", \"Tesla\", 75)\n",
        "\n",
        "print(\"Vehicle Info:\")\n",
        "vehicle.display_info()\n",
        "\n",
        "print(\"\\nCar Info:\")\n",
        "car.display_info()\n",
        "\n",
        "print(\"\\nElectric Car Info:\")\n",
        "electric_car.display_info()\n"
      ],
      "metadata": {
        "colab": {
          "base_uri": "https://localhost:8080/"
        },
        "id": "rzZ77-dONN1h",
        "outputId": "0f68bae6-1dbd-4e4a-dbaa-e374deb12daa"
      },
      "execution_count": null,
      "outputs": [
        {
          "output_type": "stream",
          "name": "stdout",
          "text": [
            "Vehicle Info:\n",
            "Vehicle Type: Motorcycle\n",
            "\n",
            "Car Info:\n",
            "Vehicle Type: Car\n",
            "Car Brand: Toyota\n",
            "\n",
            "Electric Car Info:\n",
            "Vehicle Type: Car\n",
            "Car Brand: Tesla\n",
            "Battery Capacity: 75 kWh\n"
          ]
        }
      ]
    },
    {
      "cell_type": "code",
      "source": [
        "#4. Implement a multi-level inheritance scenario where a class Vehicle has an attribute type. Derive a class Car and further derive a class ElectricCar\n",
        "# that adds a battery attribute.\n",
        "\n",
        "# Base class Vehicle\n",
        "class Vehicle:\n",
        "    def __init__(self, type):\n",
        "        self.type = type\n",
        "\n",
        "    def display_info(self):\n",
        "        print(f\"Vehicle Type: {self.type}\")\n",
        "\n",
        "# Derived class Car\n",
        "class Car(Vehicle):\n",
        "    def __init__(self, type, brand):\n",
        "        super().__init__(type) # Initialize the Vehicle class with type\n",
        "        self.brand = brand\n",
        "\n",
        "    def display_info(self):\n",
        "        super().display_info() # Display vehicle type and car brand\n",
        "        print(f\"Car Brand: {self.brand}\")\n",
        "\n",
        "# Further derived class ElectricCar\n",
        "class ElectricCar(Car):\n",
        "    def __init__(self, type, brand, battery_capacity):\n",
        "        super().__init__(type, brand) # Initialize the Car class with type and brand\n",
        "        self.battery_capacity = battery_capacity\n",
        "\n",
        "    def display_info(self):\n",
        "        super().display_info() # Display info from both Car and ElectricCar\n",
        "        print(f\"Battery Capacity: {self.battery_capacity} kWh\")\n",
        "\n",
        "vehicle = Vehicle(\"Motorcycle\")\n",
        "car = Car(\"Car\", \"Toyota\")\n",
        "electric_car = ElectricCar(\"Car\", \"Tesla\", 75)\n",
        "\n",
        "print(\"Vehicle Info:\")\n",
        "vehicle.display_info()\n",
        "\n",
        "print(\"\\nCar Info:\")\n",
        "car.display_info()\n",
        "\n",
        "print(\"\\nElectric Car Info:\")\n",
        "electric_car.display_info()\n"
      ],
      "metadata": {
        "colab": {
          "base_uri": "https://localhost:8080/"
        },
        "id": "xOBxasyjJjPl",
        "outputId": "24853e68-3193-472e-b0da-c744dc7c8b46"
      },
      "execution_count": null,
      "outputs": [
        {
          "output_type": "stream",
          "name": "stdout",
          "text": [
            "Vehicle Info:\n",
            "Vehicle Type: Motorcycle\n",
            "\n",
            "Car Info:\n",
            "Vehicle Type: Car\n",
            "Car Brand: Toyota\n",
            "\n",
            "Electric Car Info:\n",
            "Vehicle Type: Car\n",
            "Car Brand: Tesla\n",
            "Battery Capacity: 75 kWh\n"
          ]
        }
      ]
    },
    {
      "cell_type": "code",
      "source": [
        "#5. Write a program to demonstrate encapsulation by creating a class BankAccount with private attributes balance and methods to deposit, withdraw,\n",
        "# and check balance.\n",
        "\n",
        "class BankAccount:\n",
        "    def __init__(self, initial_balance=0):\n",
        "        self.__balance = initial_balance  # Private attribute for balance\n",
        "\n",
        "    # Method to deposit money into the account\n",
        "    def deposit(self, amount):\n",
        "        if amount > 0:\n",
        "            self.__balance += amount\n",
        "            print(f\"Deposited: ${amount}\")\n",
        "        else:\n",
        "            print(\"Deposit amount must be positive.\")\n",
        "\n",
        "    # Method to withdraw money from the account\n",
        "    def withdraw(self, amount):\n",
        "        if amount > 0:\n",
        "            if amount <= self.__balance:\n",
        "                self.__balance -= amount\n",
        "                print(f\"Withdrew: ${amount}\")\n",
        "            else:\n",
        "                print(\"Insufficient balance!\")\n",
        "        else:\n",
        "            print(\"Withdrawal amount must be positive.\")\n",
        "\n",
        "    # Method to check the current balance\n",
        "    def check_balance(self):\n",
        "        print(f\"Current Balance: ${self.__balance}\")\n",
        "\n",
        "\n",
        "account = BankAccount(1000)\n",
        "account.check_balance()\n",
        "account.deposit(500)\n",
        "account.withdraw(200)\n",
        "account.check_balance()\n",
        "\n",
        "# Trying invalid transactions\n",
        "account.deposit(-100)   # Invalid deposit\n",
        "account.withdraw(2000)  # Insufficient funds\n"
      ],
      "metadata": {
        "colab": {
          "base_uri": "https://localhost:8080/"
        },
        "id": "9abGxk-CK2jn",
        "outputId": "8a381d94-b7f2-4b50-97e3-fcb0f623bdc9"
      },
      "execution_count": null,
      "outputs": [
        {
          "output_type": "stream",
          "name": "stdout",
          "text": [
            "Current Balance: $1000\n",
            "Deposited: $500\n",
            "Withdrew: $200\n",
            "Current Balance: $1300\n",
            "Deposit amount must be positive.\n",
            "Insufficient balance!\n"
          ]
        }
      ]
    },
    {
      "cell_type": "code",
      "source": [
        "#6. Demonstrate runtime polymorphism using a method play() in a base class Instrument. Derive classes Guitar and Piano that implement their own\n",
        "# version of play().\n",
        "\n",
        "# Base class Instrument\n",
        "class Instrument:\n",
        "    def play(self):\n",
        "        pass  # Base method, to be overridden by subclasses\n",
        "\n",
        "# Derived class Guitar\n",
        "class Guitar(Instrument):\n",
        "    def play(self):\n",
        "        print(\"Playing the guitar with strings.\")\n",
        "\n",
        "# Derived class Piano\n",
        "class Piano(Instrument):\n",
        "    def play(self):\n",
        "        print(\"Playing the piano with keys.\")\n",
        "\n",
        "# Test the runtime polymorphism\n",
        "def test_play(instrument):\n",
        "    instrument.play()\n",
        "\n",
        "# Creating objects of Guitar and Piano\n",
        "guitar = Guitar()\n",
        "piano = Piano()\n",
        "\n",
        "# Testing runtime polymorphism\n",
        "test_play(guitar)  # This will call Guitar's play() method\n",
        "test_play(piano)   # This will call Piano's play() method\n"
      ],
      "metadata": {
        "colab": {
          "base_uri": "https://localhost:8080/"
        },
        "id": "xpWXPkOZLWM3",
        "outputId": "52d4567b-6806-446f-e6b2-28b79f041fb6"
      },
      "execution_count": null,
      "outputs": [
        {
          "output_type": "stream",
          "name": "stdout",
          "text": [
            "Playing the guitar with strings.\n",
            "Playing the piano with keys.\n"
          ]
        }
      ]
    },
    {
      "cell_type": "code",
      "source": [
        "#7. Create a class MathOperations with a class method add_numbers() to add two numbers and a static method subtract_numbers() to subtract two numbers.\n",
        "\n",
        "class MathOperations:\n",
        "    # Class method to add two numbers\n",
        "    @classmethod\n",
        "    def add_numbers(cls, num1, num2):\n",
        "        return num1 + num2\n",
        "\n",
        "    # Static method to subtract two numbers\n",
        "    @staticmethod\n",
        "    def subtract_numbers(num1, num2):\n",
        "        return num1 - num2\n",
        "\n",
        "# Using class method to add numbers\n",
        "sum_result = MathOperations.add_numbers(10, 5)\n",
        "print(f\"Sum: {sum_result}\")\n",
        "\n",
        "# Using static method to subtract numbers\n",
        "difference_result = MathOperations.subtract_numbers(10, 5)\n",
        "print(f\"Difference: {difference_result}\")\n"
      ],
      "metadata": {
        "colab": {
          "base_uri": "https://localhost:8080/"
        },
        "id": "gCO79DV6Lhyn",
        "outputId": "42c8bdcf-a564-4b09-d778-3ff5944c1653"
      },
      "execution_count": null,
      "outputs": [
        {
          "output_type": "stream",
          "name": "stdout",
          "text": [
            "Sum: 15\n",
            "Difference: 5\n"
          ]
        }
      ]
    },
    {
      "cell_type": "code",
      "source": [
        "#8. Implement a class Person with a class method to count the total number of persons created.\n",
        "\n",
        "class Person:\n",
        "    # Class attribute to keep track of the total count of persons\n",
        "    total_persons = 0\n",
        "\n",
        "    def __init__(self, name, age):\n",
        "        self.name = name\n",
        "        self.age = age\n",
        "        # Increment the total count every time a new person is created\n",
        "        Person.total_persons += 1\n",
        "\n",
        "    # Class method to get the total number of persons created\n",
        "    @classmethod\n",
        "    def get_total_persons(cls):\n",
        "        return cls.total_persons\n",
        "\n",
        "person1 = Person(\"Alice\", 30)\n",
        "person2 = Person(\"Bob\", 25)\n",
        "person3 = Person(\"Charlie\", 35)\n",
        "\n",
        "# Get the total number of persons created\n",
        "print(f\"Total persons created: {Person.get_total_persons()}\")\n"
      ],
      "metadata": {
        "colab": {
          "base_uri": "https://localhost:8080/"
        },
        "id": "EaktC43vLkyl",
        "outputId": "fcb6ffd0-b3ec-411d-fc68-03507e801a29"
      },
      "execution_count": null,
      "outputs": [
        {
          "output_type": "stream",
          "name": "stdout",
          "text": [
            "Total persons created: 3\n"
          ]
        }
      ]
    },
    {
      "cell_type": "code",
      "source": [
        "#9. Write a class Fraction with attributes numerator and denominator. Override the str method to display the fraction as \"numerator/denominator\".\n",
        "\n",
        "class Fraction:\n",
        "    def __init__(self, numerator, denominator):\n",
        "        self.numerator = numerator\n",
        "        self.denominator = denominator\n",
        "\n",
        "    def __str__(self):\n",
        "        return f\"{self.numerator}/{self.denominator}\"\n",
        "\n",
        "fraction = Fraction(3, 4)\n",
        "print(fraction)\n"
      ],
      "metadata": {
        "id": "BlZ6kt00MDS6",
        "colab": {
          "base_uri": "https://localhost:8080/"
        },
        "outputId": "40dbeb4f-e6fa-49f2-b37b-92fa7707a165"
      },
      "execution_count": 1,
      "outputs": [
        {
          "output_type": "stream",
          "name": "stdout",
          "text": [
            "3/4\n"
          ]
        }
      ]
    },
    {
      "cell_type": "code",
      "source": [
        "#10. Demonstrate operator overloading by creating a class Vector and overriding the add method to add two vectors.\n",
        "\n",
        "class Vector:\n",
        "    def __init__(self, x, y):\n",
        "        self.x = x\n",
        "        self.y = y\n",
        "\n",
        "    def __add__(self, other):\n",
        "        return Vector(self.x + other.x, self.y + other.y)\n",
        "\n",
        "    def __str__(self):\n",
        "        return f\"({self.x}, {self.y})\"\n",
        "\n",
        "v1 = Vector(2, 3)\n",
        "v2 = Vector(4, 5)\n",
        "\n",
        "# Adding two vectors using the overloaded + operator\n",
        "v3 = v1 + v2\n",
        "\n",
        "print(v3)"
      ],
      "metadata": {
        "id": "c3u0euteMJlW",
        "colab": {
          "base_uri": "https://localhost:8080/"
        },
        "outputId": "d1859806-76e4-4de5-a7e9-2ce802b0a46c"
      },
      "execution_count": 2,
      "outputs": [
        {
          "output_type": "stream",
          "name": "stdout",
          "text": [
            "(6, 8)\n"
          ]
        }
      ]
    },
    {
      "cell_type": "code",
      "source": [
        "#11. Create a class Person with attributes name and age. Add a method greet() that prints \"Hello, my name is {name} and I am {age} years old.\"\n",
        "\n",
        "class Person:\n",
        "    def __init__(self, name, age):\n",
        "        self.name = name\n",
        "        self.age = age\n",
        "\n",
        "    def greet(self):\n",
        "        print(f\"Hello, my name is {self.name} and I am {self.age} years old.\")\n",
        "\n",
        "person1 = Person(\"Alice\", 30)\n",
        "person1.greet()\n"
      ],
      "metadata": {
        "id": "KiN-FWmvMNOL",
        "colab": {
          "base_uri": "https://localhost:8080/"
        },
        "outputId": "8309bce5-33a3-4168-9668-35984ef04356"
      },
      "execution_count": 3,
      "outputs": [
        {
          "output_type": "stream",
          "name": "stdout",
          "text": [
            "Hello, my name is Alice and I am 30 years old.\n"
          ]
        }
      ]
    },
    {
      "cell_type": "code",
      "source": [
        "#12. Implement a class Student with attributes name and grades. Create a method average_grade() to compute the average of the grades.\n",
        "\n",
        "class Student:\n",
        "    def __init__(self, name, grades):\n",
        "        self.name = name\n",
        "        self.grades = grades  # List of grades\n",
        "\n",
        "    def average_grade(self):\n",
        "        if self.grades:\n",
        "            return sum(self.grades) / len(self.grades)\n",
        "        else:\n",
        "            return 0  # If there are no grades, return 0\n",
        "\n",
        "student = Student(\"John\", [85, 90, 78, 92])\n",
        "print(f\"Average grade of {student.name}: {student.average_grade()}\")\n"
      ],
      "metadata": {
        "id": "T10_5RQVMQ9i",
        "colab": {
          "base_uri": "https://localhost:8080/"
        },
        "outputId": "daf11f91-a55e-497a-bb21-9187e9b34789"
      },
      "execution_count": 4,
      "outputs": [
        {
          "output_type": "stream",
          "name": "stdout",
          "text": [
            "Average grade of John: 86.25\n"
          ]
        }
      ]
    },
    {
      "cell_type": "code",
      "source": [
        "#13. Create a class Rectangle with methods set_dimensions() to set the dimensions and area() to calculate the area.\n",
        "\n",
        "class Rectangle:\n",
        "    def __init__(self):\n",
        "        self.length = 0\n",
        "        self.width = 0\n",
        "\n",
        "    def set_dimensions(self, length, width):\n",
        "        self.length = length\n",
        "        self.width = width\n",
        "\n",
        "    def area(self):\n",
        "        return self.length * self.width\n",
        "\n",
        "rect = Rectangle()\n",
        "rect.set_dimensions(5, 3)\n",
        "print(f\"Area of the rectangle: {rect.area()}\")\n"
      ],
      "metadata": {
        "id": "WhW3jkBHMUCt",
        "colab": {
          "base_uri": "https://localhost:8080/"
        },
        "outputId": "c883530b-969a-497e-be8f-904d15a531a0"
      },
      "execution_count": 5,
      "outputs": [
        {
          "output_type": "stream",
          "name": "stdout",
          "text": [
            "Area of the rectangle: 15\n"
          ]
        }
      ]
    },
    {
      "cell_type": "code",
      "source": [
        "#14. Create a class Employee with a method calculate_salary() that computes the salary based on hours worked and hourly rate.\n",
        "# Create a derived class Manager that adds a bonus to the salary.\n",
        "\n",
        "class Employee:\n",
        "    def __init__(self, name, hours_worked, hourly_rate):\n",
        "        self.name = name\n",
        "        self.hours_worked = hours_worked\n",
        "        self.hourly_rate = hourly_rate\n",
        "\n",
        "    def calculate_salary(self):\n",
        "        return self.hours_worked * self.hourly_rate\n",
        "\n",
        "class Manager(Employee):\n",
        "    def __init__(self, name, hours_worked, hourly_rate, bonus):\n",
        "        super().__init__(name, hours_worked, hourly_rate)\n",
        "        self.bonus = bonus\n",
        "\n",
        "    def calculate_salary(self):\n",
        "        base_salary = super().calculate_salary()\n",
        "        return base_salary + self.bonus\n",
        "\n",
        "employee = Employee(\"John\", 40, 25)\n",
        "manager = Manager(\"Alice\", 40, 30, 500)\n",
        "\n",
        "print(f\"Employee's salary: {employee.calculate_salary()}\")\n",
        "print(f\"Manager's salary: {manager.calculate_salary()}\")\n"
      ],
      "metadata": {
        "id": "f638GviJMXPy",
        "colab": {
          "base_uri": "https://localhost:8080/"
        },
        "outputId": "72045354-3c3b-4186-8086-eac922c43368"
      },
      "execution_count": 6,
      "outputs": [
        {
          "output_type": "stream",
          "name": "stdout",
          "text": [
            "Employee's salary: 1000\n",
            "Manager's salary: 1700\n"
          ]
        }
      ]
    },
    {
      "cell_type": "code",
      "source": [
        "#15. Create a class Product with attributes name, price, and quantity. Implement a method total_price() that calculates the total price of the product.\n",
        "\n",
        "class Product:\n",
        "    def __init__(self, name, price, quantity):\n",
        "        self.name = name\n",
        "        self.price = price\n",
        "        self.quantity = quantity\n",
        "\n",
        "    def total_price(self):\n",
        "        return self.price * self.quantity\n",
        "\n",
        "product = Product(\"Laptop\", 1000, 3)\n",
        "print(f\"Total price of {product.name}: {product.total_price()}\")\n"
      ],
      "metadata": {
        "id": "fkB2T4ymMi_E",
        "colab": {
          "base_uri": "https://localhost:8080/"
        },
        "outputId": "895065b5-2363-46e9-dcad-ea2ee67ef82c"
      },
      "execution_count": 7,
      "outputs": [
        {
          "output_type": "stream",
          "name": "stdout",
          "text": [
            "Total price of Laptop: 3000\n"
          ]
        }
      ]
    },
    {
      "cell_type": "code",
      "source": [
        "#16. Create a class Animal with an abstract method sound(). Create two derived classes Cow and Sheep that implement the sound() method.\n",
        "\n",
        "from abc import ABC, abstractmethod\n",
        "\n",
        "# Abstract base class Animal\n",
        "class Animal(ABC):\n",
        "    @abstractmethod\n",
        "    def sound(self):\n",
        "        pass\n",
        "\n",
        "# Derived class Cow\n",
        "class Cow(Animal):\n",
        "    def sound(self):\n",
        "        return \"Moo\"\n",
        "\n",
        "# Derived class Sheep\n",
        "class Sheep(Animal):\n",
        "    def sound(self):\n",
        "        return \"Baa\"\n",
        "\n",
        "cow = Cow()\n",
        "sheep = Sheep()\n",
        "\n",
        "print(f\"Cow sound: {cow.sound()}\")\n",
        "print(f\"Sheep sound: {sheep.sound()}\")\n"
      ],
      "metadata": {
        "id": "6TlSJjjYMldu",
        "colab": {
          "base_uri": "https://localhost:8080/"
        },
        "outputId": "6e94a9b6-497b-43df-c5ce-d4c83f7bd123"
      },
      "execution_count": 8,
      "outputs": [
        {
          "output_type": "stream",
          "name": "stdout",
          "text": [
            "Cow sound: Moo\n",
            "Sheep sound: Baa\n"
          ]
        }
      ]
    },
    {
      "cell_type": "code",
      "source": [
        "#17.Create a class Book with attributes title, author, and year_published. Add a method get_book_info() that returns a formatted string with the book's details.\n",
        "\n",
        "class Book:\n",
        "    def __init__(self, title, author, year_published):\n",
        "        self.title = title\n",
        "        self.author = author\n",
        "        self.year_published = year_published\n",
        "\n",
        "    def get_book_info(self):\n",
        "        return f\"'{self.title}' by {self.author}, published in {self.year_published}\"\n",
        "\n",
        "book = Book(\"1984\", \"George Orwell\", 1949)\n",
        "print(book.get_book_info())\n"
      ],
      "metadata": {
        "id": "Oafi8Q2ZMnOY",
        "colab": {
          "base_uri": "https://localhost:8080/"
        },
        "outputId": "18f41fd4-5c10-435c-f894-bcb000629d72"
      },
      "execution_count": 9,
      "outputs": [
        {
          "output_type": "stream",
          "name": "stdout",
          "text": [
            "'1984' by George Orwell, published in 1949\n"
          ]
        }
      ]
    },
    {
      "cell_type": "code",
      "source": [
        "#18. Create a class House with attributes address and price. Create a derived class Mansion that adds an attribute number_of_rooms.\n",
        "\n",
        "class House:\n",
        "    def __init__(self, address, price):\n",
        "        self.address = address\n",
        "        self.price = price\n",
        "\n",
        "class Mansion(House):\n",
        "    def __init__(self, address, price, number_of_rooms):\n",
        "        super().__init__(address, price)\n",
        "        self.number_of_rooms = number_of_rooms\n",
        "\n",
        "house = House(\"123 Elm Street\", 250000)\n",
        "mansion = Mansion(\"456 Oak Avenue\", 1000000, 12)\n",
        "\n",
        "print(f\"House Address: {house.address}, Price: ${house.price}\")\n",
        "print(f\"Mansion Address: {mansion.address}, Price: ${mansion.price}, Rooms: {mansion.number_of_rooms}\")\n"
      ],
      "metadata": {
        "id": "IorQJEtIMqY3",
        "colab": {
          "base_uri": "https://localhost:8080/"
        },
        "outputId": "d082e93d-bad0-4d80-f5a3-db115e45a198"
      },
      "execution_count": 10,
      "outputs": [
        {
          "output_type": "stream",
          "name": "stdout",
          "text": [
            "House Address: 123 Elm Street, Price: $250000\n",
            "Mansion Address: 456 Oak Avenue, Price: $1000000, Rooms: 12\n"
          ]
        }
      ]
    }
  ]
}